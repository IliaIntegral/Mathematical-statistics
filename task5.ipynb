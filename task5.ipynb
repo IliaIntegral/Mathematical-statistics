{
  "metadata": {
    "kernelspec": {
      "name": "python",
      "display_name": "Python (Pyodide)",
      "language": "python"
    },
    "language_info": {
      "codemirror_mode": {
        "name": "python",
        "version": 3
      },
      "file_extension": ".py",
      "mimetype": "text/x-python",
      "name": "python",
      "nbconvert_exporter": "python",
      "pygments_lexer": "ipython3",
      "version": "3.8"
    }
  },
  "nbformat_minor": 4,
  "nbformat": 4,
  "cells": [
    {
      "cell_type": "code",
      "source": "import numpy as np\nimport matplotlib.pyplot as plt\nfrom scipy import stats",
      "metadata": {
        "trusted": true
      },
      "outputs": [],
      "execution_count": 11
    },
    {
      "cell_type": "code",
      "source": "n = 100\nTeta = 10\nB = 0.95\nsample = np.random.uniform(Teta, 2 * Teta, size = n)\nsample.sort()\nprint(\"Выборка объема 100: \\n\")\nprint(sample)",
      "metadata": {
        "trusted": true
      },
      "outputs": [
        {
          "name": "stdout",
          "output_type": "stream",
          "text": "Выборка объема 100: \n\n[10.02159206 10.19251115 10.21814143 10.23829006 10.35036614 10.55804796\n 10.69916379 10.78858913 11.01423528 11.09894367 11.18449943 11.42511126\n 11.48423917 11.546369   11.72152861 11.75989121 11.94497789 12.09884863\n 12.48324589 12.63570623 12.79181738 12.81560289 13.2964828  13.50365711\n 13.68185024 13.69032481 13.69277294 13.82564426 13.9614736  14.22318257\n 14.33270253 14.38394931 14.41149412 14.66328845 14.67305564 14.74991787\n 14.76480298 14.83526801 14.85478624 14.96033401 14.97285947 15.23645102\n 15.30258889 15.34078047 15.44241389 15.45059593 15.47565351 15.58022504\n 15.62104586 16.10801514 16.36337212 16.48630488 16.50293013 16.7882808\n 16.86211841 16.8902349  16.92380296 16.98288958 17.24644193 17.41086838\n 17.41825483 17.42190934 17.43773767 17.54806319 17.60991105 17.68864186\n 17.78599947 18.02528207 18.05534399 18.11492527 18.18465747 18.21450153\n 18.22124806 18.36903413 18.42668777 18.44907179 18.47203206 18.49680316\n 18.59765391 18.72841734 18.92145576 18.92919352 18.94605549 18.95145663\n 19.01911246 19.18868942 19.2088288  19.22561712 19.23190788 19.30664042\n 19.53578803 19.55510729 19.5987782  19.78355167 19.81558237 19.85665243\n 19.87655248 19.88140777 19.88843321 19.9141249 ]\n"
        }
      ],
      "execution_count": 12
    },
    {
      "cell_type": "code",
      "source": "a = (max(sample)) / ((( 1 + B ) / 2)**(1 / n ) + 1)\nb = (max(sample))/(((1 - B)/ 2) ** (1 / n) + 1)\nL_asympt_conf_int = b - a\nprint(f\"Асимптотический доверительный интервал ({a},{b})\")",
      "metadata": {
        "trusted": true
      },
      "outputs": [
        {
          "name": "stdout",
          "output_type": "stream",
          "text": "Асимптотический доверительный интервал (9.958322907018804,10.140693644515448)\n"
        }
      ],
      "execution_count": 13
    },
    {
      "cell_type": "code",
      "source": "a = -2.94 * (((7 / 3) * Teta ** -(9 / 4) * Teta) / n) ** (1 / 2) + Teta\nb = 2.94 * (((7 / 3) * Teta ** -(9 / 4) * Teta) / n) ** (1 / 2) + Teta\nL_conf_int = b - a\nprint(f\"Доверительный интервал ({a},{b})\")",
      "metadata": {
        "trusted": true
      },
      "outputs": [
        {
          "name": "stdout",
          "output_type": "stream",
          "text": "Доверительный интервал (9.89350340482922,10.10649659517078)\n"
        }
      ],
      "execution_count": 14
    },
    {
      "cell_type": "code",
      "source": "Teta_1 = (2 / 3) * np.mean(sample)\nTeta_2 = (1 / 2)*max(sample)\nprint(Teta_1, Teta_2)",
      "metadata": {
        "trusted": true
      },
      "outputs": [
        {
          "name": "stdout",
          "output_type": "stream",
          "text": "10.523104605337835 9.957062452049293\n"
        }
      ],
      "execution_count": 15
    },
    {
      "cell_type": "code",
      "source": "N = 10000\nTeta = 10\na = Teta\nb = 2 * Teta\nsamples = []\ntetas = []\nfor _ in range(N):\n  sample_ = np.random.uniform(Teta_1, 2 * Teta_1, n)\n  teta_ = (2/3)*np.mean(sample_)\n  samples.append(sample_)\n  tetas.append(teta_)\nsamples = np.array(samples)\ntetas = np.array(tetas)",
      "metadata": {
        "trusted": true
      },
      "outputs": [],
      "execution_count": 16
    },
    {
      "cell_type": "code",
      "source": "print(samples)\nprint(samples.shape)",
      "metadata": {
        "trusted": true
      },
      "outputs": [
        {
          "name": "stdout",
          "output_type": "stream",
          "text": "[[16.94779336 16.32655572 19.38792999 ... 11.52216065 12.70371625\n  15.01116313]\n [10.64962002 16.67807977 17.30151331 ... 15.21963518 19.49600011\n  15.06757981]\n [11.76766755 16.53972931 15.88644988 ... 16.69674564 14.54707238\n  16.25170892]\n ...\n [19.0451736  16.42889841 17.255384   ... 12.37769237 17.76843424\n  13.32385198]\n [16.79147408 15.48217149 20.91901485 ... 19.02175685 19.87854846\n  19.4317802 ]\n [18.25155733 19.21879785 13.69465755 ... 20.5830077  11.17290232\n  17.14352499]]\n(10000, 100)\n"
        }
      ],
      "execution_count": 17
    },
    {
      "cell_type": "code",
      "source": "print(tetas)\nprint(tetas.shape)\n\ntetas.sort()\ntetas",
      "metadata": {
        "trusted": true
      },
      "outputs": [
        {
          "name": "stdout",
          "output_type": "stream",
          "text": "[10.64396323 10.40223594 10.18888301 ... 10.54488953 10.59106581\n 10.5547123 ]\n(10000,)\n"
        },
        {
          "execution_count": 18,
          "output_type": "execute_result",
          "data": {
            "text/plain": "array([ 9.76563877,  9.77755077,  9.83461007, ..., 11.20035389,\n       11.23474478, 11.25608579])"
          },
          "metadata": {}
        }
      ],
      "execution_count": 18
    },
    {
      "cell_type": "code",
      "source": "K1 = int(N * (1 - B) / 2)\nK2 = int(N * (1 + B) / 2)\nparam_bootstrap_interval = (tetas[K1], tetas[K2])\nL_param_bootstrap_interval = tetas[K2] - tetas[K1]\nparam_bootstrap_interval",
      "metadata": {
        "trusted": true
      },
      "outputs": [
        {
          "execution_count": 19,
          "output_type": "execute_result",
          "data": {
            "text/plain": "(np.float64(10.123892445367172), np.float64(10.918244265671586))"
          },
          "metadata": {}
        }
      ],
      "execution_count": 19
    },
    {
      "cell_type": "code",
      "source": "L_min_interval = min(L_conf_int, L_asympt_conf_int, L_param_bootstrap_interval)\nL_max_interval = max(L_conf_int, L_asympt_conf_int, L_param_bootstrap_interval)\nprint(f\"Длина доверительного интервала: {L_conf_int}\\n Длина асимптотического доверительного интервала: {L_asympt_conf_int}\\n \"\nf\"Длина бутстраповского доверительного интервала: {L_param_bootstrap_interval}\\n Максимальная длина интервала: {L_max_interval}\\n Минимальная длина интервала: {L_min_interval}\\n\")",
      "metadata": {
        "trusted": true
      },
      "outputs": [
        {
          "name": "stdout",
          "output_type": "stream",
          "text": "Длина доверительного интервала: 0.21299319034156028\n Длина асимптотического доверительного интервала: 0.1823707374966439\n Длина бутстраповского доверительного интервала: 0.7943518203044135\n Максимальная длина интервала: 0.7943518203044135\n Минимальная длина интервала: 0.1823707374966439\n\n"
        }
      ],
      "execution_count": 21
    }
  ]
}