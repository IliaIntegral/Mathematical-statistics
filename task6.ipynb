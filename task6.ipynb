{
  "metadata": {
    "kernelspec": {
      "name": "python",
      "display_name": "Python (Pyodide)",
      "language": "python"
    },
    "language_info": {
      "codemirror_mode": {
        "name": "python",
        "version": 3
      },
      "file_extension": ".py",
      "mimetype": "text/x-python",
      "name": "python",
      "nbconvert_exporter": "python",
      "pygments_lexer": "ipython3",
      "version": "3.8"
    }
  },
  "nbformat_minor": 4,
  "nbformat": 4,
  "cells": [
    {
      "cell_type": "code",
      "source": "import numpy as np\nimport random as rd",
      "metadata": {
        "trusted": true
      },
      "outputs": [],
      "execution_count": 1
    },
    {
      "cell_type": "code",
      "source": "theta = 2\n\ndef p(x: float, th: float) -> float:\n    return (th - 1) / (x ** th) if x >= 1 else 0\n\ndef F(x: float, th: float) -> float:\n    return (1 - x ** (1 - th)) if x >= 1 else 0\n\ndef F_inv(y: float, th: float) -> float:\n    return (1 - y) ** (1 / (1 - th))\n\nN = 100\narr = []\n\nfor _ in range(N):\n    y = rd.random()\n    arr.append(F_inv(y, theta))",
      "metadata": {
        "trusted": true
      },
      "outputs": [],
      "execution_count": 2
    },
    {
      "cell_type": "code",
      "source": "beta = 0.95\n\nmean_ln = np.mean([np.log(x) for x in arr])\n\ng_theta = 2 ** (mean_ln)\n\nlower_bound = g_theta - 1.96 * g_theta * np.log(2) * mean_ln / np.sqrt(N)\nupper_bound = g_theta + 1.96 * g_theta * np.log(2) * mean_ln / np.sqrt(N)\n\nprint(f\"Доверительный интервал: ({lower_bound}, {upper_bound}), длина: {upper_bound - lower_bound}\")\n\nvariation_row = sorted(arr)\nprint(\"Медиана: \", (variation_row[49] + variation_row[50])/2)",
      "metadata": {
        "trusted": true
      },
      "outputs": [
        {
          "name": "stdout",
          "output_type": "stream",
          "text": "Доверительный интервал: (1.6186066089770714, 2.057047695628701), длина: 0.43844108665162973\nМедиана:  1.8028976675334016\n"
        }
      ],
      "execution_count": 3
    },
    {
      "cell_type": "code",
      "source": "beta = 0.95\n\nlower_bound = 1 - (1.96 - np.sqrt(N)) / (mean_ln * np.sqrt(N))\nupper_bound = 1 + (1.96 + np.sqrt(N)) / (mean_ln * np.sqrt(N))\n\nprint(f\"Доверительный интервал: ({lower_bound}, {upper_bound}), длина: {upper_bound - lower_bound}\")",
      "metadata": {
        "trusted": true
      },
      "outputs": [
        {
          "name": "stdout",
          "output_type": "stream",
          "text": "Доверительный интервал: (1.915716405650921, 2.3621851009434103), длина: 0.4464686952924892\n"
        }
      ],
      "execution_count": 4
    },
    {
      "cell_type": "code",
      "source": "#Непараметрический бутстрап\nn_iterations = 1000\nbeta = 0.95\n\n\n# Оценка полученная ОМП\nh_wave = 1 + 1 / mean_ln\nbootstrap_delta = []\n\nfor _ in range(n_iterations):\n    sample = np.random.choice(arr, size=N)\n    bootstrap_delta.append(1 + 1 / np.mean([np.log(x) for x in sample]) - h_wave)\n\nvariation_row = sorted(bootstrap_delta)\n\nt_1 = variation_row[int((1 - beta) * n_iterations / 2)]\nt_2 = variation_row[int((1 + beta) * n_iterations / 2)]\n\n\nlower_bound = h_wave - t_2\nupper_bound = h_wave - t_1\n\nprint(f\"Доверительный интервал: ({lower_bound}, {upper_bound}), длина: {upper_bound - lower_bound}\")\n",
      "metadata": {
        "trusted": true
      },
      "outputs": [
        {
          "name": "stdout",
          "output_type": "stream",
          "text": "Доверительный интервал: (1.872342071770401, 2.3239133545020394), длина: 0.4515712827316385\n"
        }
      ],
      "execution_count": 5
    },
    {
      "cell_type": "code",
      "source": "#Параметрический бутстрап\nn_iterations = 50000\nbeta = 0.95\n\n# Оценка полученная ОМП\nh_wave = 1 + 1 / mean_ln\nbootstrap_delta = []\n\nfor _ in range(n_iterations):\n    sample  =  []\n    for _ in range(N):\n        y = rd.random()\n        sample.append(F_inv(y, h_wave))\n\n    bootstrap_delta.append(1 + 1 / np.mean([np.log(x) for x in sample]) - h_wave)\n\nvariation_row = sorted(bootstrap_delta)\n\nt_1 = variation_row[int((1 - beta) * n_iterations / 2)]\nt_2 = variation_row[int((1 + beta) * n_iterations / 2)]\n\n\nlower_bound = h_wave - t_2\nupper_bound = h_wave - t_1\n\nprint(f\"Доверительный интервал: ({lower_bound}, {upper_bound}), длина: {upper_bound - lower_bound}\")\n",
      "metadata": {
        "trusted": true
      },
      "outputs": [
        {
          "name": "stdout",
          "output_type": "stream",
          "text": "Доверительный интервал: (1.8792245740078766, 2.333720197779647), длина: 0.45449562377177033\n"
        }
      ],
      "execution_count": 6
    },
    {
      "cell_type": "markdown",
      "source": "Длина непараметрического бутстраповского дов. инт. < Длина асимптотического дов. инт. < Длина параметрического бутстраповского дов. инт.",
      "metadata": {}
    }
  ]
}