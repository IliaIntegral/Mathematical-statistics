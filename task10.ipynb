{
  "metadata": {
    "kernelspec": {
      "name": "python",
      "display_name": "Python (Pyodide)",
      "language": "python"
    },
    "language_info": {
      "codemirror_mode": {
        "name": "python",
        "version": 3
      },
      "file_extension": ".py",
      "mimetype": "text/x-python",
      "name": "python",
      "nbconvert_exporter": "python",
      "pygments_lexer": "ipython3",
      "version": "3.8"
    }
  },
  "nbformat_minor": 4,
  "nbformat": 4,
  "cells": [
    {
      "cell_type": "markdown",
      "source": "#### a)",
      "metadata": {}
    },
    {
      "cell_type": "code",
      "source": "import numpy as np\n\nN = 100\n\np = np.array([5,8,6,12,14,18,11,6,13,7])\nq = np.array([1 for _ in range(10)])\n\nF_emp = np.array([sum(p[:i]) for i in range(len(p)+1)]) / 100\nF_th = np.array([sum(q[:i]) for i in range(len(q))]) / 10\n\n\ndelta = np.max([np.sqrt(N) * max(np.abs(F_th[i] - F_emp[i]),np.abs(F_th[i] - F_emp[i+1])) for i in range(F_th.size)])\n\ndelta",
      "metadata": {},
      "outputs": [
        {
          "data": {
            "text/plain": [
              "1.4000000000000001"
            ]
          },
          "execution_count": 2,
          "metadata": {},
          "output_type": "execute_result"
        }
      ],
      "execution_count": 2
    },
    {
      "cell_type": "code",
      "source": "def K(x):\n    res=1.0\n    for i in range(1, 1001):\n        res += 2 * (-1) ** i * np.exp(-2*(i**2)*(x**2))\n    return res\n\np_val = 1-K(delta)\np_val",
      "metadata": {},
      "outputs": [
        {
          "data": {
            "text/plain": [
              "0.03968187953811442"
            ]
          },
          "execution_count": 3,
          "metadata": {},
          "output_type": "execute_result"
        }
      ],
      "execution_count": 3
    },
    {
      "cell_type": "markdown",
      "source": "Отвергаем гипотезу H_0, так как $p-value <= 0.05",
      "metadata": {}
    },
    {
      "cell_type": "markdown",
      "source": "#### b)",
      "metadata": {}
    },
    {
      "cell_type": "code",
      "source": "import math\n\nn_iterations = 50000\n\nbootstrap_delta  = []\n\nmean = 4.77\nsigma = np.sqrt(6.34)\n\ndef n(x, mean_val, std_dev):\n    return 0.5 * (1 + math.erf((x - mean_val)/(np.sqrt(2) * std_dev)))\n\nx = [i for i in range(10)]\ndelta_wave = np.max([np.sqrt(N) * max(np.abs(n(x[i], mean, sigma) - F_emp[i]),np.abs(n(x[i], mean, sigma) - F_emp[i+1])) for i in range(10)])\n\nfor i in range(n_iterations):\n    sample = np.random.normal(mean, sigma, N)\n    sample_sorted = sorted(sample)\n    bootstrap_F_emp = [i / N for i in range(N + 1)]\n    bootstrap_mean = np.mean(sample)\n    bootstrap_std_dev = np.std(sample) * N /(N - 1)\n    bootstrap_delta.append(np.max([np.sqrt(N) * max(np.abs(n(sample_sorted[j], bootstrap_mean, bootstrap_std_dev) - bootstrap_F_emp[j]), \\\n                                     np.abs(n(sample_sorted[j], bootstrap_mean, bootstrap_std_dev) - bootstrap_F_emp[j+1])) \\\n                                        for j in range(len(sample_sorted))]))\n\nbootstrap_delta = np.array(bootstrap_delta)\np_val = len(bootstrap_delta[bootstrap_delta >= delta_wave]) / n_iterations\np_val",
      "metadata": {},
      "outputs": [
        {
          "data": {
            "text/plain": [
              "0.01618"
            ]
          },
          "execution_count": 5,
          "metadata": {},
          "output_type": "execute_result"
        }
      ],
      "execution_count": 5
    },
    {
      "cell_type": "markdown",
      "source": "Отвергаем гипотезу H_0, так как p-value <= 0.05",
      "metadata": {}
    },
    {
      "cell_type": "markdown",
      "source": "Оба критерия отвергли гипотезу нормального распределения.\nКритерий Коломогорова отверг гипотезу с меньшей мерой значимости.",
      "metadata": {}
    }
  ]
}